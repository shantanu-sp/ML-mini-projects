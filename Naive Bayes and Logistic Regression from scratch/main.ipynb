{
 "cells": [
  {
   "cell_type": "code",
   "execution_count": 1,
   "metadata": {},
   "outputs": [],
   "source": [
    "import scipy.io\n",
    "\n",
    "import numpy as np\n",
    "import matplotlib.pyplot as plt\n",
    "import pandas as pd\n",
    "\n",
    "import scipy.stats as st"
   ]
  },
  {
   "cell_type": "code",
   "execution_count": 2,
   "metadata": {},
   "outputs": [],
   "source": [
    "#get data\n",
    "Numpyfile= scipy.io.loadmat('mnist_data.mat')\n",
    "\n",
    "trX=Numpyfile.get('trX')\n",
    "trY=Numpyfile.get('trY')\n",
    "\n",
    "tsX=Numpyfile.get('tsX')\n",
    "tsY=Numpyfile.get('tsY')"
   ]
  },
  {
   "cell_type": "code",
   "execution_count": 3,
   "metadata": {},
   "outputs": [],
   "source": [
    "trX=pd.DataFrame(trX)\n",
    "tsX=pd.DataFrame(tsX)\n",
    "\n",
    "#transform to column vector\n",
    "trY=pd.DataFrame(trY).T\n",
    "tsY=pd.DataFrame(tsY).T"
   ]
  },
  {
   "cell_type": "code",
   "execution_count": 4,
   "metadata": {},
   "outputs": [],
   "source": [
    "#combine train and test sets for feature extraction\n",
    "data=pd.concat([trX,tsX],axis=0)"
   ]
  },
  {
   "cell_type": "code",
   "execution_count": 5,
   "metadata": {},
   "outputs": [],
   "source": [
    "#extract features\n",
    "feature1=np.mean(data,axis=1)\n",
    "feature2=np.sqrt(np.var(data,axis=1))"
   ]
  },
  {
   "cell_type": "code",
   "execution_count": 6,
   "metadata": {},
   "outputs": [],
   "source": [
    "features=pd.concat([feature1,feature2],axis=1)"
   ]
  },
  {
   "cell_type": "code",
   "execution_count": 7,
   "metadata": {},
   "outputs": [],
   "source": [
    "#train- (12116,2)\n",
    "#test- (2002,2)\n",
    "train=pd.DataFrame(features[:12116])\n",
    "train.columns=['mean','sd']\n",
    "test=pd.DataFrame(features[12116:])\n",
    "test.columns=['mean','sd']"
   ]
  },
  {
   "cell_type": "code",
   "execution_count": 8,
   "metadata": {},
   "outputs": [],
   "source": [
    "#------------------------------------Naive Bayes------------------------------------------"
   ]
  },
  {
   "cell_type": "code",
   "execution_count": 9,
   "metadata": {},
   "outputs": [],
   "source": [
    "#separate 7s and 8s\n",
    "train8=train[trY[0]==1]\n",
    "train7=train[trY[0]==0]"
   ]
  },
  {
   "cell_type": "code",
   "execution_count": 10,
   "metadata": {},
   "outputs": [],
   "source": [
    "#calculate mean and SD of the 2 features\n",
    "avg7=np.mean(train7,axis=0)\n",
    "avg8=np.mean(train8,axis=0)\n",
    "\n",
    "sd7=np.sqrt(np.var(train7,axis=0))\n",
    "sd8=np.sqrt(np.var(train8,axis=0))"
   ]
  },
  {
   "cell_type": "code",
   "execution_count": 11,
   "metadata": {},
   "outputs": [
    {
     "name": "stdout",
     "output_type": "stream",
     "text": [
      "mean    0.114528\n",
      "sd      0.287557\n",
      "dtype: float64 mean    0.030632\n",
      "sd      0.038201\n",
      "dtype: float64 mean    0.150156\n",
      "sd      0.320476\n",
      "dtype: float64 mean    0.038632\n",
      "sd      0.039960\n",
      "dtype: float64\n"
     ]
    }
   ],
   "source": [
    "print(avg7,sd7,avg8,sd8)"
   ]
  },
  {
   "cell_type": "code",
   "execution_count": 12,
   "metadata": {},
   "outputs": [],
   "source": [
    "#covariance matrices\n",
    "cov7=[[sd7[0]**2,0],[0,sd7[1]**2]]\n",
    "cov8=[[sd8[0]**2,0],[0,sd8[1]**2]]"
   ]
  },
  {
   "cell_type": "code",
   "execution_count": 13,
   "metadata": {},
   "outputs": [],
   "source": [
    "#Calculate probability density of being 7 and 8 using multivariate normal distribution for each image \n",
    "prob7=pd.DataFrame(st.multivariate_normal(mean=avg7,cov=cov7).pdf(test))\n",
    "prob8=pd.DataFrame(st.multivariate_normal(mean=avg8,cov=cov8).pdf(test))"
   ]
  },
  {
   "cell_type": "code",
   "execution_count": 14,
   "metadata": {},
   "outputs": [],
   "source": [
    "#Get prior probabilites\n",
    "prior7=len(train7.index)/len(trX.index)\n",
    "prior8=len(train8.index)/len(trX.index)"
   ]
  },
  {
   "cell_type": "code",
   "execution_count": 15,
   "metadata": {},
   "outputs": [
    {
     "name": "stdout",
     "output_type": "stream",
     "text": [
      "0.5170848464839881 0.4829151535160119\n"
     ]
    }
   ],
   "source": [
    "print(prior7,prior8)"
   ]
  },
  {
   "cell_type": "code",
   "execution_count": 16,
   "metadata": {},
   "outputs": [],
   "source": [
    "#Use the bayes theorem to get conditional probabilities for labels\n",
    "prob7=prob7*prior7\n",
    "prob8=prob8*prior8"
   ]
  },
  {
   "cell_type": "code",
   "execution_count": 17,
   "metadata": {},
   "outputs": [],
   "source": [
    "probs=pd.concat([prob7,prob8],axis=1)\n",
    "probs.columns=['p7','p8']"
   ]
  },
  {
   "cell_type": "code",
   "execution_count": 18,
   "metadata": {},
   "outputs": [],
   "source": [
    "#Set 1 if p8>p7\n",
    "bool=probs['p8']>probs['p7']"
   ]
  },
  {
   "cell_type": "code",
   "execution_count": 19,
   "metadata": {},
   "outputs": [],
   "source": [
    "probs['label']=bool"
   ]
  },
  {
   "cell_type": "code",
   "execution_count": 20,
   "metadata": {},
   "outputs": [],
   "source": [
    "#Number of correct predictions\n",
    "bool=probs['label']==tsY[0]"
   ]
  },
  {
   "cell_type": "code",
   "execution_count": 21,
   "metadata": {},
   "outputs": [
    {
     "name": "stdout",
     "output_type": "stream",
     "text": [
      "69.53 %\n"
     ]
    }
   ],
   "source": [
    "#Accuracy=Number of correct predictions/total predictions\n",
    "acc=(np.sum(bool)/len(test.index))*100\n",
    "print(str(round(acc,2)),\"%\")"
   ]
  },
  {
   "cell_type": "code",
   "execution_count": 22,
   "metadata": {
    "scrolled": true
   },
   "outputs": [
    {
     "name": "stdout",
     "output_type": "stream",
     "text": [
      "Accuracy of 7s: 75.97 %\n",
      "Accuracy of 8s: 62.73 %\n"
     ]
    }
   ],
   "source": [
    "#Accuracy of 7s and 8s\n",
    "bool7=tsY[0]==0\n",
    "bool8=tsY[0]==1\n",
    "\n",
    "n7=np.sum(bool7)\n",
    "n8=np.sum(bool8)\n",
    "\n",
    "acc7=(np.sum(probs[bool7]['label']==False)/n7)*100\n",
    "print(\"Accuracy of 7s:\",str(round(acc7,2)),\"%\")\n",
    "\n",
    "acc8=(np.sum(probs[bool8]['label'])/n8)*100\n",
    "print(\"Accuracy of 8s:\",str(round(acc8,2)),\"%\")"
   ]
  },
  {
   "cell_type": "code",
   "execution_count": 23,
   "metadata": {},
   "outputs": [],
   "source": [
    "#------------------------------------Logistic Regression------------------------------------------"
   ]
  },
  {
   "cell_type": "code",
   "execution_count": 24,
   "metadata": {},
   "outputs": [],
   "source": [
    "#add intercept terms x0 train- (12116,3)\n",
    "x0=np.ones((train.shape[0],1))\n",
    "train=np.hstack((x0,train))\n",
    "\n",
    "weights=np.zeros(train.shape[1])"
   ]
  },
  {
   "cell_type": "code",
   "execution_count": 25,
   "metadata": {},
   "outputs": [],
   "source": [
    "def sigmoid_fun(prod):\n",
    "    return 1/(1+np.exp(-prod))"
   ]
  },
  {
   "cell_type": "code",
   "execution_count": 26,
   "metadata": {},
   "outputs": [],
   "source": [
    "def log_likelihood(data,target,weights):\n",
    "    prod=np.dot(data,weights)\n",
    "    ll=np.sum(target*prod-np.log(1+np.exp(prod)))\n",
    "    return ll"
   ]
  },
  {
   "cell_type": "code",
   "execution_count": 27,
   "metadata": {},
   "outputs": [],
   "source": [
    "#decrease the error every iteration and maximize the log likelihood function\n",
    "def logistic_reg(features,target,weights,num_steps,learning_rate):\n",
    "    init=log_likelihood(train,trY[0],weights)\n",
    "    print(\"initial \",init)\n",
    "    \n",
    "    for step in range(num_steps):\n",
    "        prod=np.dot(features,weights)\n",
    "        prediction=sigmoid_fun(prod)\n",
    "\n",
    "        # Update weights with gradient\n",
    "        error=target-prediction\n",
    "        gradient=np.dot(features.T,error)\n",
    "        weights+=learning_rate*gradient\n",
    "        \n",
    "        if step%10000==0:\n",
    "            print(log_likelihood(features,target,weights))\n",
    "\n",
    "    return weights"
   ]
  },
  {
   "cell_type": "code",
   "execution_count": 28,
   "metadata": {},
   "outputs": [
    {
     "name": "stdout",
     "output_type": "stream",
     "text": [
      "initial  -8398.171239664298\n",
      "-8399.407469883352\n",
      "-9646.11650137537\n",
      "-8558.982068003384\n",
      "-7652.234937363416\n",
      "-6967.4403853615\n"
     ]
    }
   ],
   "source": [
    "weights=logistic_reg(train,trY[0],weights,50000,0.001)"
   ]
  },
  {
   "cell_type": "code",
   "execution_count": 29,
   "metadata": {},
   "outputs": [
    {
     "name": "stdout",
     "output_type": "stream",
     "text": [
      "[  20.66826309  227.34668918 -162.92629572]\n"
     ]
    }
   ],
   "source": [
    "print(weights)"
   ]
  },
  {
   "cell_type": "code",
   "execution_count": 30,
   "metadata": {},
   "outputs": [],
   "source": [
    "#add intercept to test set\n",
    "x0 = np.ones((test.shape[0], 1))\n",
    "test=np.hstack((x0,test))\n",
    "\n",
    "#predict values\n",
    "pred=np.dot(test,weights)\n",
    "\n",
    "#classify as 8 if probability>0.5 else classify as 7\n",
    "bool=pred>0.5"
   ]
  },
  {
   "cell_type": "code",
   "execution_count": 31,
   "metadata": {},
   "outputs": [],
   "source": [
    "#Number of correct predictions\n",
    "bool=bool==tsY[0]"
   ]
  },
  {
   "cell_type": "code",
   "execution_count": 32,
   "metadata": {},
   "outputs": [
    {
     "name": "stdout",
     "output_type": "stream",
     "text": [
      "81.57 %\n"
     ]
    }
   ],
   "source": [
    "#Accuracy=Number of correct predictions/total predictions\n",
    "acc=(np.sum(bool)/len(test))*100\n",
    "print(str(round(acc,2)),\"%\")"
   ]
  },
  {
   "cell_type": "code",
   "execution_count": 33,
   "metadata": {},
   "outputs": [
    {
     "name": "stdout",
     "output_type": "stream",
     "text": [
      "Accuracy of 7s: 78.79 %\n",
      "Accuracy of 8s: 84.5 %\n"
     ]
    }
   ],
   "source": [
    "#Accuracy of 7s and 8s\n",
    "bool7=tsY[0]==0\n",
    "bool8=tsY[0]==1\n",
    "bool=pred>0.5\n",
    "\n",
    "bool7=bool[bool7]==False\n",
    "bool8=bool[bool8]\n",
    "\n",
    "acc7=(np.sum(bool7)/n7)*100\n",
    "print(\"Accuracy of 7s:\",str(round(acc7,2)),\"%\")\n",
    "\n",
    "acc8=(np.sum(bool8)/n8)*100\n",
    "print(\"Accuracy of 8s:\",str(round(acc8,2)),\"%\")"
   ]
  },
  {
   "cell_type": "code",
   "execution_count": 34,
   "metadata": {},
   "outputs": [],
   "source": [
    "# from sklearn.preprocessing import OneHotEncoder\n",
    "\n",
    "# ohe=OneHotEncoder(sparse=False)\n",
    "# temp=ohe.fit_transform(tsY)\n",
    "# print(temp)"
   ]
  }
 ],
 "metadata": {
  "kernelspec": {
   "display_name": "Python 3",
   "language": "python",
   "name": "python3"
  },
  "language_info": {
   "codemirror_mode": {
    "name": "ipython",
    "version": 3
   },
   "file_extension": ".py",
   "mimetype": "text/x-python",
   "name": "python",
   "nbconvert_exporter": "python",
   "pygments_lexer": "ipython3",
   "version": "3.7.4"
  }
 },
 "nbformat": 4,
 "nbformat_minor": 2
}
