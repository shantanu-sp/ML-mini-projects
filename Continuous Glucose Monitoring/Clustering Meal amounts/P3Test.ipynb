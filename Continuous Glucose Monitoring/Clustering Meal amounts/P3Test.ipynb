{
 "cells": [
  {
   "cell_type": "code",
   "execution_count": 19,
   "metadata": {},
   "outputs": [],
   "source": [
    "import sys\n",
    "import os\n",
    "import pandas as pd\n",
    "import numpy as np\n",
    "import pickle\n",
    "from collections import Counter,defaultdict\n",
    "\n",
    "from sklearn.model_selection import train_test_split\n",
    "from scipy.stats import kurtosis,iqr\n",
    "from scipy import fftpack as fft\n",
    "from sklearn.decomposition import PCA\n",
    "from sklearn.preprocessing import StandardScaler\n",
    "\n",
    "from sklearn.cluster import DBSCAN\n",
    "from sklearn.cluster import KMeans\n",
    "\n",
    "from sklearn.metrics import accuracy_score,f1_score"
   ]
  },
  {
   "cell_type": "code",
   "execution_count": 20,
   "metadata": {},
   "outputs": [],
   "source": [
    "class Patient():\n",
    "    def __init__(self,cgm):\n",
    "        self.cgm = cgm\n",
    "        \n",
    "    def preprocess(self):\n",
    "        #drop rows with 30% of values missing\n",
    "        #self.cgm=self.cgm.loc[self.cgm.isnull().mean(axis=1)<0.3,:]\n",
    "        \n",
    "        #drop last column as it has many missing values for all patients\n",
    "        self.cgm=self.cgm.iloc[:,:30]\n",
    "        \n",
    "        #reset the indices\n",
    "        self.cgm.reset_index(inplace=True,drop=True)\n",
    "        \n",
    "        #interpolate the remaining missing values\n",
    "        self.cgm.interpolate(method='polynomial',order=5,inplace=True)\n",
    "        self.cgm.bfill(inplace=True)\n",
    "        self.cgm.ffill(inplace=True)\n",
    "        self.cgm=self.cgm.astype('float64')\n",
    "        \n",
    "    def fft(self,):\n",
    "        ndarr = fft.rfft(self.cgm, n=5, axis=1)\n",
    "        df= pd.DataFrame(data=ndarr)\n",
    "        df.columns=['fft'+str(i) for i in range(1,df.shape[1]+1)]\n",
    "        return df\n",
    "        \n",
    "    def rolling_mean(self,win,olap):\n",
    "        df=self.cgm.rolling(window=win,axis=1).apply(np.mean).dropna(axis=1).iloc[:,::olap]\n",
    "        df.columns=['rm'+str(i) for i in range(1,df.shape[1]+1)]\n",
    "        return df\n",
    "    \n",
    "    def kurtosis(self,win,olap):\n",
    "        df=self.cgm.rolling(window=win,axis=1).apply(kurtosis).dropna(axis=1).iloc[:,::olap]\n",
    "        df.columns=['kt'+str(i) for i in range(1,df.shape[1]+1)]\n",
    "        return df\n",
    "\n",
    "    def stdev(self,win,olap):\n",
    "        df=self.cgm.rolling(window=win,axis=1).apply(np.std).dropna(axis=1).iloc[:,::olap]\n",
    "        df.columns=['st'+str(i) for i in range(1,df.shape[1]+1)]\n",
    "        return df\n",
    "    \n",
    "    def diff(self,win,olap):\n",
    "        def getdiff(x):\n",
    "            return x.max()-x[24]\n",
    "        #df=self.cgm.rolling(window=win,axis=1).apply(lambda x : getdiff(x)).dropna(axis=1).iloc[:,::olap]\n",
    "        #df.columns=['diff'+str(i) for i in range(1,df.shape[1]+1)]\n",
    "        df=self.cgm.apply(lambda x : getdiff(x),axis=1)\n",
    "        df.name=\"diff\"\n",
    "        return df\n",
    "    \n",
    "#     def vel(self,win,olap):\n",
    "#         def getvel(x):\n",
    "# #             x=pd.Series(x)\n",
    "#             x.reset_index(drop=True,inplace=True)\n",
    "# #             if abs(int(x[x==x.max()].index[0])-int(x[x==x.min()].index[0])):\n",
    "# #                 return abs(x.max()-x.min())/abs(int(x[x==x.max()].index[0])-int(x[x==x.min()].index[0]))\n",
    "            \n",
    "#             if abs(int(x[x==x.max()].index[0])-24):\n",
    "#                 return abs(x.max()-24)/abs(int(x[x==x.max()].index[0])-24)\n",
    "\n",
    "#             return 0\n",
    "\n",
    "# #         df=self.cgm.rolling(window=win,axis=1).apply(lambda x : getvel(x)).dropna(axis=1).iloc[:,::olap]\n",
    "# #         df.columns=['vel'+str(i) for i in range(1,df.shape[1]+1)]\n",
    "#         df=self.cgm.apply(lambda x: getvel(x),axis=1)\n",
    "#         df.name=\"vel\"\n",
    "#         return df\n",
    "    \n",
    "#     def kurt(self):\n",
    "#         df=self.cgm.apply(kurtosis,axis=1)\n",
    "#         df.name='ktw'\n",
    "#         return df\n",
    "    \n",
    "#     def iqrg(self):\n",
    "#         df=self.cgm.apply(iqr,axis=1)\n",
    "#         df.name='iqr'\n",
    "#         return df\n",
    "\n",
    "#     def tdiff(self):\n",
    "#         def gettdiff(x):\n",
    "#             x.reset_index(drop=True,inplace=True)\n",
    "#             return (x.max()-x.min())/abs(x[x==x.max()].index[0]-x[x==x.min()].index[0])\n",
    "#         df=self.cgm.apply(lambda x: gettdiff(x),axis=1)\n",
    "#         df.name='tdiff'\n",
    "#         return df\n",
    "    \n",
    "    def featureMatrix(self):\n",
    "        self.preprocess()\n",
    "        #self.stdev(10,5),self.kurtosis(10,5)\n",
    "        df=pd.concat([self.fft(),self.rolling_mean(10,5),self.stdev(10,5),self.kurtosis(10,5),self.diff(10,5)],axis=1)\n",
    "        return df"
   ]
  },
  {
   "cell_type": "code",
   "execution_count": 21,
   "metadata": {},
   "outputs": [],
   "source": [
    "cnames=[\"cgmSeries_ 1\",\"cgmSeries_ 2\",\"cgmSeries_ 3\",\"cgmSeries_ 4\",\"cgmSeries_ 5\",\"cgmSeries_ 6\",\"cgmSeries_ 7\",\"cgmSeries_ 8\",\"cgmSeries_ 9\",\"cgmSeries_10\",\"cgmSeries_11\",\"cgmSeries_12\",\"cgmSeries_13\",\"cgmSeries_14\",\"cgmSeries_15\",\"cgmSeries_16\",\"cgmSeries_17\",\"cgmSeries_18\",\"cgmSeries_19\",\"cgmSeries_20\",\"cgmSeries_21\",\"cgmSeries_22\",\"cgmSeries_23\",\"cgmSeries_24\",\"cgmSeries_25\",\"cgmSeries_26\",\"cgmSeries_27\",\"cgmSeries_28\",\"cgmSeries_29\",\"cgmSeries_30\",\"cgmSeries_31\"\n",
    "]"
   ]
  },
  {
   "cell_type": "code",
   "execution_count": 22,
   "metadata": {},
   "outputs": [],
   "source": [
    "#fname=sys.argv[1]\n",
    "fname='proj3_test.csv'"
   ]
  },
  {
   "cell_type": "code",
   "execution_count": 23,
   "metadata": {},
   "outputs": [
    {
     "name": "stderr",
     "output_type": "stream",
     "text": [
      "C:\\Users\\hp\\Anaconda3\\lib\\site-packages\\ipykernel_launcher.py:28: FutureWarning: Currently, 'apply' passes the values as ndarrays to the applied function. In the future, this will change to passing it as Series objects. You need to specify 'raw=True' to keep the current behaviour, and you can pass 'raw=False' to silence this warning\n",
      "C:\\Users\\hp\\Anaconda3\\lib\\site-packages\\ipykernel_launcher.py:38: FutureWarning: Currently, 'apply' passes the values as ndarrays to the applied function. In the future, this will change to passing it as Series objects. You need to specify 'raw=True' to keep the current behaviour, and you can pass 'raw=False' to silence this warning\n",
      "C:\\Users\\hp\\Anaconda3\\lib\\site-packages\\ipykernel_launcher.py:33: FutureWarning: Currently, 'apply' passes the values as ndarrays to the applied function. In the future, this will change to passing it as Series objects. You need to specify 'raw=True' to keep the current behaviour, and you can pass 'raw=False' to silence this warning\n"
     ]
    }
   ],
   "source": [
    "obj=Patient(pd.read_csv(fname,names=cnames))\n",
    "obj=obj.featureMatrix()"
   ]
  },
  {
   "cell_type": "code",
   "execution_count": 24,
   "metadata": {},
   "outputs": [],
   "source": [
    "file=open('pca.pkl','rb')\n",
    "p=pickle.load(file)\n",
    "file.close()"
   ]
  },
  {
   "cell_type": "code",
   "execution_count": 25,
   "metadata": {},
   "outputs": [],
   "source": [
    "stdscaler = StandardScaler()\n",
    "obj = pd.DataFrame(stdscaler.fit_transform(obj))\n",
    "\n",
    "obj=pd.concat([pd.DataFrame(p.transform(obj.iloc[:,:20])),obj.iloc[:,20]],axis=1)"
   ]
  },
  {
   "cell_type": "code",
   "execution_count": 26,
   "metadata": {},
   "outputs": [
    {
     "data": {
      "text/plain": [
       "(51, 6)"
      ]
     },
     "execution_count": 26,
     "metadata": {},
     "output_type": "execute_result"
    }
   ],
   "source": [
    "obj.shape"
   ]
  },
  {
   "cell_type": "code",
   "execution_count": 27,
   "metadata": {},
   "outputs": [],
   "source": [
    "clusters = np.loadtxt(\"clusters.csv\",delimiter=',')\n",
    "train_features = clusters[:,:6]\n",
    "train_kmeans = clusters[:,6]\n",
    "train_dbscan = clusters[:,7]"
   ]
  },
  {
   "cell_type": "code",
   "execution_count": 28,
   "metadata": {},
   "outputs": [],
   "source": [
    "#KNN k=5\n",
    "k=5\n",
    "test_kmeans = np.array([])\n",
    "test_dbscan = np.array([])\n",
    "for i,x in obj.iterrows():\n",
    "    dist = np.array([])\n",
    "    for y in train_features:\n",
    "        dist = np.append(dist,np.linalg.norm(x-y))\n",
    "    idx = dist.argsort()[:k]\n",
    "    km = np.take(train_kmeans, idx)\n",
    "    db = np.take(train_dbscan, idx)\n",
    "    test_kmeans = np.append(test_kmeans,Counter(km).most_common(1)[0][0]) \n",
    "    test_dbscan = np.append(test_dbscan,Counter(db).most_common(1)[0][0])"
   ]
  },
  {
   "cell_type": "code",
   "execution_count": 29,
   "metadata": {},
   "outputs": [],
   "source": [
    "result = np.column_stack((test_dbscan,test_kmeans))\n",
    "np.savetxt(\"res.csv\", result, delimiter=\",\",fmt='%f')"
   ]
  },
  {
   "cell_type": "code",
   "execution_count": 30,
   "metadata": {},
   "outputs": [
    {
     "name": "stdout",
     "output_type": "stream",
     "text": [
      "DBscan Kmeans\n",
      "[[4. 5.]\n",
      " [4. 4.]\n",
      " [4. 1.]\n",
      " [4. 4.]\n",
      " [4. 4.]\n",
      " [4. 4.]\n",
      " [4. 1.]\n",
      " [6. 1.]\n",
      " [4. 4.]\n",
      " [4. 1.]\n",
      " [4. 6.]\n",
      " [5. 1.]\n",
      " [4. 4.]\n",
      " [4. 6.]\n",
      " [4. 1.]\n",
      " [6. 4.]\n",
      " [4. 6.]\n",
      " [4. 1.]\n",
      " [4. 1.]\n",
      " [4. 4.]\n",
      " [5. 5.]\n",
      " [6. 6.]\n",
      " [4. 6.]\n",
      " [2. 4.]\n",
      " [4. 1.]\n",
      " [4. 1.]\n",
      " [4. 5.]\n",
      " [5. 5.]\n",
      " [5. 1.]\n",
      " [6. 4.]\n",
      " [4. 4.]\n",
      " [4. 4.]\n",
      " [4. 4.]\n",
      " [4. 6.]\n",
      " [1. 5.]\n",
      " [2. 4.]\n",
      " [6. 4.]\n",
      " [4. 4.]\n",
      " [6. 1.]\n",
      " [4. 6.]\n",
      " [6. 1.]\n",
      " [4. 4.]\n",
      " [4. 6.]\n",
      " [5. 5.]\n",
      " [4. 6.]\n",
      " [4. 4.]\n",
      " [4. 1.]\n",
      " [4. 1.]\n",
      " [4. 6.]\n",
      " [4. 1.]\n",
      " [4. 1.]]\n"
     ]
    }
   ],
   "source": [
    "print(\"DBscan Kmeans\")\n",
    "print(result)"
   ]
  }
 ],
 "metadata": {
  "kernelspec": {
   "display_name": "Python 3",
   "language": "python",
   "name": "python3"
  },
  "language_info": {
   "codemirror_mode": {
    "name": "ipython",
    "version": 3
   },
   "file_extension": ".py",
   "mimetype": "text/x-python",
   "name": "python",
   "nbconvert_exporter": "python",
   "pygments_lexer": "ipython3",
   "version": "3.7.4"
  }
 },
 "nbformat": 4,
 "nbformat_minor": 2
}
