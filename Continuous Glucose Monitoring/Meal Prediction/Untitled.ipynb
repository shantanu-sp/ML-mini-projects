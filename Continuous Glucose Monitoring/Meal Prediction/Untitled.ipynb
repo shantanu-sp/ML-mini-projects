{
 "cells": [
  {
   "cell_type": "code",
   "execution_count": 1,
   "metadata": {},
   "outputs": [
    {
     "name": "stdout",
     "output_type": "stream",
     "text": [
      "Input unsorted array :  [2 0 1 5 4 1 9]\n",
      "Output sorted array indices :  [1 2 5 0 4 3 6]\n",
      "Output sorted array :  [0 1 1 2 4 5 9]\n"
     ]
    }
   ],
   "source": [
    "import numpy as geek \n",
    "  \n",
    "# input array \n",
    "in_arr = geek.array([ 2, 0,  1, 5, 4, 1, 9]) \n",
    "print (\"Input unsorted array : \", in_arr)  \n",
    "  \n",
    "out_arr = geek.argsort(in_arr) \n",
    "print (\"Output sorted array indices : \", out_arr) \n",
    "print(\"Output sorted array : \", in_arr[out_arr]) "
   ]
  },
  {
   "cell_type": "code",
   "execution_count": 2,
   "metadata": {},
   "outputs": [
    {
     "name": "stdout",
     "output_type": "stream",
     "text": [
      "[9 1 4 5 1 0 2]\n"
     ]
    }
   ],
   "source": [
    "in_arr = geek.array([ 2, 0,  1, 5, 4, 1, 9]) \n",
    "print(in_arr[geek.array([ 6,5,4,3,2,1,0])])"
   ]
  }
 ],
 "metadata": {
  "kernelspec": {
   "display_name": "Python 3",
   "language": "python",
   "name": "python3"
  },
  "language_info": {
   "codemirror_mode": {
    "name": "ipython",
    "version": 3
   },
   "file_extension": ".py",
   "mimetype": "text/x-python",
   "name": "python",
   "nbconvert_exporter": "python",
   "pygments_lexer": "ipython3",
   "version": "3.7.4"
  }
 },
 "nbformat": 4,
 "nbformat_minor": 2
}
